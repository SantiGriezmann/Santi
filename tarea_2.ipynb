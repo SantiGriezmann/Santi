{
  "nbformat": 4,
  "nbformat_minor": 0,
  "metadata": {
    "colab": {
      "provenance": [],
      "mount_file_id": "1x1M0tYpYC6-7We6bd-EhmsfKxpryOUM6",
      "authorship_tag": "ABX9TyM4NL2NEdiIFxdJPVtjraLb",
      "include_colab_link": true
    },
    "kernelspec": {
      "name": "python3",
      "display_name": "Python 3"
    },
    "language_info": {
      "name": "python"
    }
  },
  "cells": [
    {
      "cell_type": "markdown",
      "metadata": {
        "id": "view-in-github",
        "colab_type": "text"
      },
      "source": [
        "<a href=\"https://colab.research.google.com/github/SantiGriezmann/Santi/blob/main/tarea_2.ipynb\" target=\"_parent\"><img src=\"https://colab.research.google.com/assets/colab-badge.svg\" alt=\"Open In Colab\"/></a>"
      ]
    },
    {
      "cell_type": "code",
      "execution_count": null,
      "metadata": {
        "id": "4z2leYHgA5lL"
      },
      "outputs": [],
      "source": [
        "Hacer un programa que imprima los números del 1 al 100, en Python sería"
      ]
    },
    {
      "cell_type": "code",
      "source": [
        "\n",
        "\n",
        "for x in range(100):\n",
        "  print(x+1)"
      ],
      "metadata": {
        "colab": {
          "base_uri": "https://localhost:8080/"
        },
        "id": "JC87QGB_BANm",
        "outputId": "c88215f2-b67e-437a-fd2c-9b29850cdf1f"
      },
      "execution_count": 1,
      "outputs": [
        {
          "output_type": "stream",
          "name": "stdout",
          "text": [
            "1\n",
            "2\n",
            "3\n",
            "4\n",
            "5\n",
            "6\n",
            "7\n",
            "8\n",
            "9\n",
            "10\n",
            "11\n",
            "12\n",
            "13\n",
            "14\n",
            "15\n",
            "16\n",
            "17\n",
            "18\n",
            "19\n",
            "20\n",
            "21\n",
            "22\n",
            "23\n",
            "24\n",
            "25\n",
            "26\n",
            "27\n",
            "28\n",
            "29\n",
            "30\n",
            "31\n",
            "32\n",
            "33\n",
            "34\n",
            "35\n",
            "36\n",
            "37\n",
            "38\n",
            "39\n",
            "40\n",
            "41\n",
            "42\n",
            "43\n",
            "44\n",
            "45\n",
            "46\n",
            "47\n",
            "48\n",
            "49\n",
            "50\n",
            "51\n",
            "52\n",
            "53\n",
            "54\n",
            "55\n",
            "56\n",
            "57\n",
            "58\n",
            "59\n",
            "60\n",
            "61\n",
            "62\n",
            "63\n",
            "64\n",
            "65\n",
            "66\n",
            "67\n",
            "68\n",
            "69\n",
            "70\n",
            "71\n",
            "72\n",
            "73\n",
            "74\n",
            "75\n",
            "76\n",
            "77\n",
            "78\n",
            "79\n",
            "80\n",
            "81\n",
            "82\n",
            "83\n",
            "84\n",
            "85\n",
            "86\n",
            "87\n",
            "88\n",
            "89\n",
            "90\n",
            "91\n",
            "92\n",
            "93\n",
            "94\n",
            "95\n",
            "96\n",
            "97\n",
            "98\n",
            "99\n",
            "100\n"
          ]
        }
      ]
    },
    {
      "cell_type": "markdown",
      "source": [
        "2. Hacer un programa que imprima los números del 1 al 100 que sean divisibles entre 3 (con resto 0)"
      ],
      "metadata": {
        "id": "c1a9fx17BJtH"
      }
    },
    {
      "cell_type": "code",
      "source": [
        "for x in range(100):\n",
        "  if (x+1)%3==0:\n",
        "    print(x+1)"
      ],
      "metadata": {
        "colab": {
          "base_uri": "https://localhost:8080/"
        },
        "id": "u2pIvGyRBKAn",
        "outputId": "b65711a5-aebe-49e9-a1c9-5a250d1dc774"
      },
      "execution_count": 2,
      "outputs": [
        {
          "output_type": "stream",
          "name": "stdout",
          "text": [
            "3\n",
            "6\n",
            "9\n",
            "12\n",
            "15\n",
            "18\n",
            "21\n",
            "24\n",
            "27\n",
            "30\n",
            "33\n",
            "36\n",
            "39\n",
            "42\n",
            "45\n",
            "48\n",
            "51\n",
            "54\n",
            "57\n",
            "60\n",
            "63\n",
            "66\n",
            "69\n",
            "72\n",
            "75\n",
            "78\n",
            "81\n",
            "84\n",
            "87\n",
            "90\n",
            "93\n",
            "96\n",
            "99\n"
          ]
        }
      ]
    },
    {
      "cell_type": "markdown",
      "source": [
        "Pseudocódigo, Sumador y comparador de dos números Realiza el algoritmo para un sumador de dos números. Si el resultado es menor a 100 se mostrará el mensaje \"menor a 100\", si el resultado es mayor a 100, pero menor a 150 mostrará el mensaje \"mayor a 100\", pero si es mayor a 150 mostrará el mensaje \"mayor a 150\""
      ],
      "metadata": {
        "id": "JwrtOC8cBStZ"
      }
    },
    {
      "cell_type": "code",
      "source": [
        "número_1=int(input(\"Ingresa un número\"))\n",
        "número_2=5\n",
        "suma=número_1 + número_2\n",
        "resultado=\"\"\n",
        "\n",
        "if(suma<100):\n",
        "  resultado=\"menor a 100\"\n",
        "elif(suma>=100 and suma<150):\n",
        "    resultado=\"mayor a 100\"\n",
        "elif(suma>=150):\n",
        "    resultado=\"mayor a 150\"\n",
        "print(resultado)"
      ],
      "metadata": {
        "id": "71KOiihbBV14"
      },
      "execution_count": null,
      "outputs": []
    },
    {
      "cell_type": "markdown",
      "source": [
        "Generar un programa que combine variables, tipos de datos y una condicional en Python (hacer una función que evalúe si el usuario es mayor de edad y si le gusta la programación, que envíe diferentes textos según la respuesta del usuario)"
      ],
      "metadata": {
        "id": "MJ6q5n6jBZiL"
      }
    },
    {
      "cell_type": "code",
      "source": [
        "número_1 = int(input  (  \" Edad \" ))\n",
        "número_2 = int(input  (  \" ¿Te gusta programar? si escribe 1, no escribe 2 \"  ))\n",
        "\n",
        "if (número_1 > 18 and  número_2 == 1):\n",
        "  resultado = (\"Eres mayor de edad y te gusta programar\")\n",
        "elif (número_1 > 18 and  número_2 == 2):\n",
        "  resultado = (\"Eres mayor de edad y no te gusta programar\")\n",
        "elif (número_1 < 18 and  número_2 == 1,2):\n",
        "  resultado = (\"no eres mayor de edad\")\n",
        "\n",
        "print(resultado)"
      ],
      "metadata": {
        "id": "s4Jyeos4BeWk"
      },
      "execution_count": null,
      "outputs": []
    }
  ]
}